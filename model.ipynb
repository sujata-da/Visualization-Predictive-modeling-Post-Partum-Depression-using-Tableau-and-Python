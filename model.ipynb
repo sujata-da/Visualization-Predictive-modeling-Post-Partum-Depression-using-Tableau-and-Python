{
 "cells": [
  {
   "cell_type": "markdown",
   "id": "18c141ca-a383-4880-9250-1ac1d08cdadf",
   "metadata": {},
   "source": [
    "## **Model to be Used at the Backend of UI**"
   ]
  },
  {
   "cell_type": "code",
   "execution_count": 82,
   "id": "92fc6b0b-bceb-4115-83ed-0e8f597ec0b4",
   "metadata": {},
   "outputs": [],
   "source": [
    "import pandas as pd\n",
    "import numpy as np"
   ]
  },
  {
   "cell_type": "code",
   "execution_count": 83,
   "id": "3de82d52-3f51-4c36-800f-c60fd45683d2",
   "metadata": {},
   "outputs": [
    {
     "data": {
      "text/html": [
       "<div>\n",
       "<style scoped>\n",
       "    .dataframe tbody tr th:only-of-type {\n",
       "        vertical-align: middle;\n",
       "    }\n",
       "\n",
       "    .dataframe tbody tr th {\n",
       "        vertical-align: top;\n",
       "    }\n",
       "\n",
       "    .dataframe thead th {\n",
       "        text-align: right;\n",
       "    }\n",
       "</style>\n",
       "<table border=\"1\" class=\"dataframe\">\n",
       "  <thead>\n",
       "    <tr style=\"text-align: right;\">\n",
       "      <th></th>\n",
       "      <th>Age</th>\n",
       "      <th>Feeling_sad_or_Tearful</th>\n",
       "      <th>Irritable_towards_baby_&amp;_partner</th>\n",
       "      <th>Trouble_sleeping_at_night</th>\n",
       "      <th>Problems_concentrating_or_making_decision</th>\n",
       "      <th>Overeating_or_loss_of_appetite</th>\n",
       "      <th>Feeling_anxious</th>\n",
       "      <th>Feeling_of_guilt</th>\n",
       "      <th>Problems_of_bonding_with_baby</th>\n",
       "      <th>Suicide_attempt</th>\n",
       "    </tr>\n",
       "  </thead>\n",
       "  <tbody>\n",
       "    <tr>\n",
       "      <th>0</th>\n",
       "      <td>45-50</td>\n",
       "      <td>No</td>\n",
       "      <td>Sometimes</td>\n",
       "      <td>Yes</td>\n",
       "      <td>Often</td>\n",
       "      <td>No</td>\n",
       "      <td>Yes</td>\n",
       "      <td>No</td>\n",
       "      <td>No</td>\n",
       "      <td>No</td>\n",
       "    </tr>\n",
       "    <tr>\n",
       "      <th>1</th>\n",
       "      <td>45-50</td>\n",
       "      <td>Yes</td>\n",
       "      <td>No</td>\n",
       "      <td>Two or more days a week</td>\n",
       "      <td>No</td>\n",
       "      <td>No</td>\n",
       "      <td>Yes</td>\n",
       "      <td>Maybe</td>\n",
       "      <td>Sometimes</td>\n",
       "      <td>No</td>\n",
       "    </tr>\n",
       "    <tr>\n",
       "      <th>2</th>\n",
       "      <td>25-30</td>\n",
       "      <td>Sometimes</td>\n",
       "      <td>Yes</td>\n",
       "      <td>Two or more days a week</td>\n",
       "      <td>Yes</td>\n",
       "      <td>No</td>\n",
       "      <td>No</td>\n",
       "      <td>Maybe</td>\n",
       "      <td>No</td>\n",
       "      <td>Yes</td>\n",
       "    </tr>\n",
       "    <tr>\n",
       "      <th>3</th>\n",
       "      <td>40-45</td>\n",
       "      <td>No</td>\n",
       "      <td>Sometimes</td>\n",
       "      <td>Yes</td>\n",
       "      <td>No</td>\n",
       "      <td>No</td>\n",
       "      <td>No</td>\n",
       "      <td>Maybe</td>\n",
       "      <td>Sometimes</td>\n",
       "      <td>Yes</td>\n",
       "    </tr>\n",
       "    <tr>\n",
       "      <th>4</th>\n",
       "      <td>30-35</td>\n",
       "      <td>Yes</td>\n",
       "      <td>No</td>\n",
       "      <td>Two or more days a week</td>\n",
       "      <td>No</td>\n",
       "      <td>No</td>\n",
       "      <td>Yes</td>\n",
       "      <td>Maybe</td>\n",
       "      <td>Sometimes</td>\n",
       "      <td>No</td>\n",
       "    </tr>\n",
       "  </tbody>\n",
       "</table>\n",
       "</div>"
      ],
      "text/plain": [
       "     Age Feeling_sad_or_Tearful Irritable_towards_baby_&_partner   \n",
       "0  45-50                     No                        Sometimes  \\\n",
       "1  45-50                    Yes                               No   \n",
       "2  25-30              Sometimes                              Yes   \n",
       "3  40-45                     No                        Sometimes   \n",
       "4  30-35                    Yes                               No   \n",
       "\n",
       "  Trouble_sleeping_at_night Problems_concentrating_or_making_decision   \n",
       "0                       Yes                                     Often  \\\n",
       "1   Two or more days a week                                        No   \n",
       "2   Two or more days a week                                       Yes   \n",
       "3                       Yes                                        No   \n",
       "4   Two or more days a week                                        No   \n",
       "\n",
       "  Overeating_or_loss_of_appetite Feeling_anxious Feeling_of_guilt   \n",
       "0                             No             Yes               No  \\\n",
       "1                             No             Yes            Maybe   \n",
       "2                             No              No            Maybe   \n",
       "3                             No              No            Maybe   \n",
       "4                             No             Yes            Maybe   \n",
       "\n",
       "  Problems_of_bonding_with_baby Suicide_attempt  \n",
       "0                            No              No  \n",
       "1                     Sometimes              No  \n",
       "2                            No             Yes  \n",
       "3                     Sometimes             Yes  \n",
       "4                     Sometimes              No  "
      ]
     },
     "execution_count": 83,
     "metadata": {},
     "output_type": "execute_result"
    }
   ],
   "source": [
    "data_bs = pd.read_csv('bootstrapped_data.csv')\n",
    "data_bs.head()"
   ]
  },
  {
   "cell_type": "code",
   "execution_count": 84,
   "id": "766bd5c3-9e67-4dac-9d1c-cf1dce3494d8",
   "metadata": {},
   "outputs": [],
   "source": [
    "data_bs.isna().sum()\n",
    "lbl_enc = data_bs.copy()"
   ]
  },
  {
   "cell_type": "code",
   "execution_count": 85,
   "id": "04f06165-e66f-4321-8fb6-b842a398f45f",
   "metadata": {},
   "outputs": [
    {
     "data": {
      "text/plain": [
       "Age                                            0\n",
       "Feeling_sad_or_Tearful                         0\n",
       "Irritable_towards_baby_&_partner             463\n",
       "Trouble_sleeping_at_night                      0\n",
       "Problems_concentrating_or_making_decision    943\n",
       "Overeating_or_loss_of_appetite                 0\n",
       "Feeling_anxious                                0\n",
       "Feeling_of_guilt                             695\n",
       "Problems_of_bonding_with_baby                  0\n",
       "Suicide_attempt                                0\n",
       "dtype: int64"
      ]
     },
     "execution_count": 85,
     "metadata": {},
     "output_type": "execute_result"
    }
   ],
   "source": [
    "lbl_enc.isna().sum()"
   ]
  },
  {
   "cell_type": "code",
   "execution_count": 86,
   "id": "d6d003fe-9c6a-485e-9063-0f6d8e45016f",
   "metadata": {},
   "outputs": [],
   "source": [
    "lbl_enc.dropna(inplace=True)"
   ]
  },
  {
   "cell_type": "code",
   "execution_count": 87,
   "id": "fbbe020e-13a3-4ca0-9e68-249682a766c3",
   "metadata": {},
   "outputs": [
    {
     "data": {
      "text/plain": [
       "Age                                          0\n",
       "Feeling_sad_or_Tearful                       0\n",
       "Irritable_towards_baby_&_partner             0\n",
       "Trouble_sleeping_at_night                    0\n",
       "Problems_concentrating_or_making_decision    0\n",
       "Overeating_or_loss_of_appetite               0\n",
       "Feeling_anxious                              0\n",
       "Feeling_of_guilt                             0\n",
       "Problems_of_bonding_with_baby                0\n",
       "Suicide_attempt                              0\n",
       "dtype: int64"
      ]
     },
     "execution_count": 87,
     "metadata": {},
     "output_type": "execute_result"
    }
   ],
   "source": [
    "lbl_enc.isna().sum()"
   ]
  },
  {
   "cell_type": "code",
   "execution_count": 88,
   "id": "8be6875c-9607-434e-bae8-9d12c98b8909",
   "metadata": {},
   "outputs": [
    {
     "data": {
      "text/html": [
       "<div>\n",
       "<style scoped>\n",
       "    .dataframe tbody tr th:only-of-type {\n",
       "        vertical-align: middle;\n",
       "    }\n",
       "\n",
       "    .dataframe tbody tr th {\n",
       "        vertical-align: top;\n",
       "    }\n",
       "\n",
       "    .dataframe thead th {\n",
       "        text-align: right;\n",
       "    }\n",
       "</style>\n",
       "<table border=\"1\" class=\"dataframe\">\n",
       "  <thead>\n",
       "    <tr style=\"text-align: right;\">\n",
       "      <th></th>\n",
       "      <th>Age</th>\n",
       "      <th>Feeling_sad_or_Tearful</th>\n",
       "      <th>Irritable_towards_baby_&amp;_partner</th>\n",
       "      <th>Trouble_sleeping_at_night</th>\n",
       "      <th>Problems_concentrating_or_making_decision</th>\n",
       "      <th>Overeating_or_loss_of_appetite</th>\n",
       "      <th>Feeling_anxious</th>\n",
       "      <th>Feeling_of_guilt</th>\n",
       "      <th>Problems_of_bonding_with_baby</th>\n",
       "      <th>Suicide_attempt</th>\n",
       "    </tr>\n",
       "  </thead>\n",
       "  <tbody>\n",
       "    <tr>\n",
       "      <th>0</th>\n",
       "      <td>4</td>\n",
       "      <td>0</td>\n",
       "      <td>1</td>\n",
       "      <td>1</td>\n",
       "      <td>2</td>\n",
       "      <td>1</td>\n",
       "      <td>1</td>\n",
       "      <td>0</td>\n",
       "      <td>0</td>\n",
       "      <td>0</td>\n",
       "    </tr>\n",
       "    <tr>\n",
       "      <th>1</th>\n",
       "      <td>4</td>\n",
       "      <td>2</td>\n",
       "      <td>0</td>\n",
       "      <td>2</td>\n",
       "      <td>0</td>\n",
       "      <td>1</td>\n",
       "      <td>1</td>\n",
       "      <td>1</td>\n",
       "      <td>1</td>\n",
       "      <td>0</td>\n",
       "    </tr>\n",
       "    <tr>\n",
       "      <th>2</th>\n",
       "      <td>0</td>\n",
       "      <td>1</td>\n",
       "      <td>2</td>\n",
       "      <td>2</td>\n",
       "      <td>1</td>\n",
       "      <td>1</td>\n",
       "      <td>0</td>\n",
       "      <td>1</td>\n",
       "      <td>0</td>\n",
       "      <td>2</td>\n",
       "    </tr>\n",
       "    <tr>\n",
       "      <th>3</th>\n",
       "      <td>3</td>\n",
       "      <td>0</td>\n",
       "      <td>1</td>\n",
       "      <td>1</td>\n",
       "      <td>0</td>\n",
       "      <td>1</td>\n",
       "      <td>0</td>\n",
       "      <td>1</td>\n",
       "      <td>1</td>\n",
       "      <td>2</td>\n",
       "    </tr>\n",
       "    <tr>\n",
       "      <th>4</th>\n",
       "      <td>1</td>\n",
       "      <td>2</td>\n",
       "      <td>0</td>\n",
       "      <td>2</td>\n",
       "      <td>0</td>\n",
       "      <td>1</td>\n",
       "      <td>1</td>\n",
       "      <td>1</td>\n",
       "      <td>1</td>\n",
       "      <td>0</td>\n",
       "    </tr>\n",
       "  </tbody>\n",
       "</table>\n",
       "</div>"
      ],
      "text/plain": [
       "   Age  Feeling_sad_or_Tearful  Irritable_towards_baby_&_partner   \n",
       "0    4                       0                                 1  \\\n",
       "1    4                       2                                 0   \n",
       "2    0                       1                                 2   \n",
       "3    3                       0                                 1   \n",
       "4    1                       2                                 0   \n",
       "\n",
       "   Trouble_sleeping_at_night  Problems_concentrating_or_making_decision   \n",
       "0                          1                                          2  \\\n",
       "1                          2                                          0   \n",
       "2                          2                                          1   \n",
       "3                          1                                          0   \n",
       "4                          2                                          0   \n",
       "\n",
       "   Overeating_or_loss_of_appetite  Feeling_anxious  Feeling_of_guilt   \n",
       "0                               1                1                 0  \\\n",
       "1                               1                1                 1   \n",
       "2                               1                0                 1   \n",
       "3                               1                0                 1   \n",
       "4                               1                1                 1   \n",
       "\n",
       "   Problems_of_bonding_with_baby  Suicide_attempt  \n",
       "0                              0                0  \n",
       "1                              1                0  \n",
       "2                              0                2  \n",
       "3                              1                2  \n",
       "4                              1                0  "
      ]
     },
     "execution_count": 88,
     "metadata": {},
     "output_type": "execute_result"
    }
   ],
   "source": [
    "# Define the mapping for the target column\n",
    "mapping_1 = {'Yes': 2, 'No': 0, 'Not interested to say': 1}\n",
    "mapping_2 = {'Yes': 2, 'No': 0, 'Sometimes': 1}\n",
    "mapping_3 = {'Yes': 2, 'No': 0, 'Maybe': 1}\n",
    "mapping_4 = {'Yes': 1, 'No': 0}\n",
    "mapping_5 = {'Yes': 2, 'No': 1, 'Not at all': 0}\n",
    "mapping_6 = {'Yes': 1, 'No': 0, 'Often': 2}\n",
    "mapping_7 = {'Two or more days a week': 2, 'No': 0, 'Yes': 1}\n",
    "mapping_8 = {'Yes': 2, 'No': 0, 'Sometimes' : 1}\n",
    "mapping_9 = {'Yes': 2, 'No': 0, 'Sometimes' : 1}\n",
    "mapping_10 = {'25-30': 0, '30-35': 1, '35-40' : 2, '40-45' : 3, '45-50' : 4}\n",
    "\n",
    "# Apply the mapping to the target column\n",
    "lbl_enc['Suicide_attempt'] = lbl_enc['Suicide_attempt'].map(mapping_1)\n",
    "lbl_enc['Problems_of_bonding_with_baby'] = lbl_enc['Problems_of_bonding_with_baby'].map(mapping_2)\n",
    "lbl_enc['Feeling_of_guilt'] = lbl_enc['Feeling_of_guilt'].map(mapping_3)\n",
    "lbl_enc['Feeling_anxious'] = lbl_enc['Feeling_anxious'].map(mapping_4)\n",
    "lbl_enc['Overeating_or_loss_of_appetite'] = lbl_enc['Overeating_or_loss_of_appetite'].map(mapping_5)\n",
    "lbl_enc['Problems_concentrating_or_making_decision'] = lbl_enc['Problems_concentrating_or_making_decision'].map(mapping_6)\n",
    "lbl_enc['Trouble_sleeping_at_night'] = lbl_enc['Trouble_sleeping_at_night'].map(mapping_7)\n",
    "lbl_enc['Irritable_towards_baby_&_partner'] = lbl_enc['Irritable_towards_baby_&_partner'].map(mapping_8)\n",
    "lbl_enc['Feeling_sad_or_Tearful'] = lbl_enc['Feeling_sad_or_Tearful'].map(mapping_9)\n",
    "lbl_enc['Age'] = lbl_enc['Age'].map(mapping_10)\n",
    "\n",
    "# Print the encoded DataFrame\n",
    "lbl_enc.head()"
   ]
  },
  {
   "cell_type": "code",
   "execution_count": 89,
   "id": "d356b251-9bde-4ea2-8e2e-4859e127e355",
   "metadata": {},
   "outputs": [
    {
     "name": "stdout",
     "output_type": "stream",
     "text": [
      "Accuracy: 0.9960184409052808\n"
     ]
    }
   ],
   "source": [
    "from sklearn.model_selection import train_test_split\n",
    "from sklearn.ensemble import RandomForestClassifier\n",
    "from sklearn.metrics import accuracy_score\n",
    "\n",
    "# Dropping non-numeric columns\n",
    "X = lbl_enc.drop(['Suicide_attempt'], axis=1)\n",
    "y = lbl_enc['Suicide_attempt']\n",
    "\n",
    "# # Split data into train and test sets\n",
    "X_train, X_test, y_train, y_test = train_test_split(X, y, test_size=0.2, random_state=42)\n",
    "\n",
    "# Initialize the Random Forest Classifier\n",
    "rf_classifier = RandomForestClassifier(random_state=42)\n",
    "\n",
    "# Train the classifier\n",
    "rf_classifier.fit(X_train, y_train)\n",
    "\n",
    "# Predict on the test set\n",
    "y_pred = rf_classifier.predict(X_test)\n",
    "\n",
    "# Calculate accuracy\n",
    "accuracy = accuracy_score(y_test, y_pred)\n",
    "print(\"Accuracy:\", accuracy)"
   ]
  },
  {
   "cell_type": "code",
   "execution_count": 90,
   "id": "3aba216c-4e1a-4b68-8d81-dbe8fde067f5",
   "metadata": {},
   "outputs": [
    {
     "data": {
      "text/html": [
       "<div>\n",
       "<style scoped>\n",
       "    .dataframe tbody tr th:only-of-type {\n",
       "        vertical-align: middle;\n",
       "    }\n",
       "\n",
       "    .dataframe tbody tr th {\n",
       "        vertical-align: top;\n",
       "    }\n",
       "\n",
       "    .dataframe thead th {\n",
       "        text-align: right;\n",
       "    }\n",
       "</style>\n",
       "<table border=\"1\" class=\"dataframe\">\n",
       "  <thead>\n",
       "    <tr style=\"text-align: right;\">\n",
       "      <th></th>\n",
       "      <th>Age</th>\n",
       "      <th>Feeling_sad_or_Tearful</th>\n",
       "      <th>Irritable_towards_baby_&amp;_partner</th>\n",
       "      <th>Trouble_sleeping_at_night</th>\n",
       "      <th>Problems_concentrating_or_making_decision</th>\n",
       "      <th>Overeating_or_loss_of_appetite</th>\n",
       "      <th>Feeling_anxious</th>\n",
       "      <th>Feeling_of_guilt</th>\n",
       "      <th>Problems_of_bonding_with_baby</th>\n",
       "    </tr>\n",
       "  </thead>\n",
       "  <tbody>\n",
       "    <tr>\n",
       "      <th>0</th>\n",
       "      <td>25-30</td>\n",
       "      <td>Sometimes</td>\n",
       "      <td>Yes</td>\n",
       "      <td>Two or more days a week</td>\n",
       "      <td>Often</td>\n",
       "      <td>Yes</td>\n",
       "      <td>No</td>\n",
       "      <td>Yes</td>\n",
       "      <td>Sometimes</td>\n",
       "    </tr>\n",
       "  </tbody>\n",
       "</table>\n",
       "</div>"
      ],
      "text/plain": [
       "     Age Feeling_sad_or_Tearful Irritable_towards_baby_&_partner   \n",
       "0  25-30              Sometimes                              Yes  \\\n",
       "\n",
       "  Trouble_sleeping_at_night Problems_concentrating_or_making_decision   \n",
       "0   Two or more days a week                                     Often  \\\n",
       "\n",
       "  Overeating_or_loss_of_appetite Feeling_anxious Feeling_of_guilt   \n",
       "0                            Yes              No              Yes  \\\n",
       "\n",
       "  Problems_of_bonding_with_baby  \n",
       "0                     Sometimes  "
      ]
     },
     "execution_count": 90,
     "metadata": {},
     "output_type": "execute_result"
    }
   ],
   "source": [
    "X_new_test = pd.read_csv(\"New_data.csv\")\n",
    "# Replace spaces with underscores in column names\n",
    "X_new_test.rename(columns=lambda x: x.replace(' ', '_'), inplace=True)\n",
    " \n",
    "# Display the updated DataFrame with modified column names\n",
    "X_new_test.head()\n",
    "# X_final = pd.get_dummies(X_new_test, dtype =  int)"
   ]
  },
  {
   "cell_type": "code",
   "execution_count": 91,
   "id": "2885044c-d750-4f86-988b-75d6d939f1e8",
   "metadata": {},
   "outputs": [
    {
     "data": {
      "text/plain": [
       "Index(['Age', 'Feeling_sad_or_Tearful', 'Irritable_towards_baby_&_partner',\n",
       "       'Trouble_sleeping_at_night',\n",
       "       'Problems_concentrating_or_making_decision',\n",
       "       'Overeating_or_loss_of_appetite', 'Feeling_anxious', 'Feeling_of_guilt',\n",
       "       'Problems_of_bonding_with_baby'],\n",
       "      dtype='object')"
      ]
     },
     "execution_count": 91,
     "metadata": {},
     "output_type": "execute_result"
    }
   ],
   "source": [
    "X_new_test.columns"
   ]
  },
  {
   "cell_type": "code",
   "execution_count": 92,
   "id": "e3d83d16-b1de-4913-9379-9d113609c6ea",
   "metadata": {},
   "outputs": [
    {
     "data": {
      "text/html": [
       "<div>\n",
       "<style scoped>\n",
       "    .dataframe tbody tr th:only-of-type {\n",
       "        vertical-align: middle;\n",
       "    }\n",
       "\n",
       "    .dataframe tbody tr th {\n",
       "        vertical-align: top;\n",
       "    }\n",
       "\n",
       "    .dataframe thead th {\n",
       "        text-align: right;\n",
       "    }\n",
       "</style>\n",
       "<table border=\"1\" class=\"dataframe\">\n",
       "  <thead>\n",
       "    <tr style=\"text-align: right;\">\n",
       "      <th></th>\n",
       "      <th>Age</th>\n",
       "      <th>Feeling_sad_or_Tearful</th>\n",
       "      <th>Irritable_towards_baby_&amp;_partner</th>\n",
       "      <th>Trouble_sleeping_at_night</th>\n",
       "      <th>Problems_concentrating_or_making_decision</th>\n",
       "      <th>Overeating_or_loss_of_appetite</th>\n",
       "      <th>Feeling_anxious</th>\n",
       "      <th>Feeling_of_guilt</th>\n",
       "      <th>Problems_of_bonding_with_baby</th>\n",
       "    </tr>\n",
       "  </thead>\n",
       "  <tbody>\n",
       "    <tr>\n",
       "      <th>0</th>\n",
       "      <td>0</td>\n",
       "      <td>1</td>\n",
       "      <td>2</td>\n",
       "      <td>2</td>\n",
       "      <td>2</td>\n",
       "      <td>2</td>\n",
       "      <td>0</td>\n",
       "      <td>2</td>\n",
       "      <td>1</td>\n",
       "    </tr>\n",
       "  </tbody>\n",
       "</table>\n",
       "</div>"
      ],
      "text/plain": [
       "   Age  Feeling_sad_or_Tearful  Irritable_towards_baby_&_partner   \n",
       "0    0                       1                                 2  \\\n",
       "\n",
       "   Trouble_sleeping_at_night  Problems_concentrating_or_making_decision   \n",
       "0                          2                                          2  \\\n",
       "\n",
       "   Overeating_or_loss_of_appetite  Feeling_anxious  Feeling_of_guilt   \n",
       "0                               2                0                 2  \\\n",
       "\n",
       "   Problems_of_bonding_with_baby  \n",
       "0                              1  "
      ]
     },
     "execution_count": 92,
     "metadata": {},
     "output_type": "execute_result"
    }
   ],
   "source": [
    "# Define the mapping for the target column\n",
    "# mapping_1 = {'Yes': 2, 'No': 0, 'Not interested to say': 1}\n",
    "mapping_2 = {'Yes': 2, 'No': 0, 'Sometimes': 1}\n",
    "mapping_3 = {'Yes': 2, 'No': 0, 'Maybe': 1}\n",
    "mapping_4 = {'Yes': 1, 'No': 0}\n",
    "mapping_5 = {'Yes': 2, 'No': 1, 'Not at all': 0}\n",
    "mapping_6 = {'Yes': 1, 'No': 0, 'Often': 2}\n",
    "mapping_7 = {'Two or more days a week': 2, 'No': 0, 'Yes': 1}\n",
    "mapping_8 = {'Yes': 2, 'No': 0, 'Sometimes' : 1}\n",
    "mapping_9 = {'Yes': 2, 'No': 0, 'Sometimes' : 1}\n",
    "mapping_10 = {'25-30': 0, '30-35': 1, '35-40' : 2, '40-45' : 3, '45-50' : 4}\n",
    "\n",
    "# Apply the mapping to the target column\n",
    "# X_new_test['Suicide_attempt'] = X_new_test['Suicide_attempt'].map(mapping_1)\n",
    "X_new_test['Problems_of_bonding_with_baby'] = X_new_test['Problems_of_bonding_with_baby'].map(mapping_2)\n",
    "X_new_test['Feeling_of_guilt'] = X_new_test['Feeling_of_guilt'].map(mapping_3)\n",
    "X_new_test['Feeling_anxious'] = X_new_test['Feeling_anxious'].map(mapping_4)\n",
    "X_new_test['Overeating_or_loss_of_appetite'] = X_new_test['Overeating_or_loss_of_appetite'].map(mapping_5)\n",
    "X_new_test['Problems_concentrating_or_making_decision'] = X_new_test['Problems_concentrating_or_making_decision'].map(mapping_6)\n",
    "X_new_test['Trouble_sleeping_at_night'] = X_new_test['Trouble_sleeping_at_night'].map(mapping_7)\n",
    "X_new_test['Irritable_towards_baby_&_partner'] = X_new_test['Irritable_towards_baby_&_partner'].map(mapping_8)\n",
    "X_new_test['Feeling_sad_or_Tearful'] = X_new_test['Feeling_sad_or_Tearful'].map(mapping_9)\n",
    "X_new_test['Age'] = X_new_test['Age'].map(mapping_10)\n",
    "\n",
    "# Print the encoded DataFrame\n",
    "X_new_test.head()"
   ]
  },
  {
   "cell_type": "code",
   "execution_count": 93,
   "id": "5f4b9b67-c1aa-45aa-97b4-57761d12b010",
   "metadata": {},
   "outputs": [
    {
     "data": {
      "text/plain": [
       "array([1], dtype=int64)"
      ]
     },
     "execution_count": 93,
     "metadata": {},
     "output_type": "execute_result"
    }
   ],
   "source": [
    "rf_classifier.predict(X_new_test)"
   ]
  },
  {
   "cell_type": "code",
   "execution_count": 94,
   "id": "22f3192d-7edb-4bfd-b048-8016b9eec7b8",
   "metadata": {},
   "outputs": [
    {
     "data": {
      "text/plain": [
       "['random_forest_model.pkl']"
      ]
     },
     "execution_count": 94,
     "metadata": {},
     "output_type": "execute_result"
    }
   ],
   "source": [
    "import joblib\n",
    " \n",
    "# Serialize (saving) the trained model to a file\n",
    "joblib.dump(rf_classifier, 'random_forest_model.pkl')"
   ]
  },
  {
   "cell_type": "code",
   "execution_count": 95,
   "id": "51f37503-6a9a-4dd9-ab0f-551f2b2562ea",
   "metadata": {},
   "outputs": [
    {
     "data": {
      "text/plain": [
       "Index(['Age', 'Feeling_sad_or_Tearful', 'Irritable_towards_baby_&_partner',\n",
       "       'Trouble_sleeping_at_night',\n",
       "       'Problems_concentrating_or_making_decision',\n",
       "       'Overeating_or_loss_of_appetite', 'Feeling_anxious', 'Feeling_of_guilt',\n",
       "       'Problems_of_bonding_with_baby'],\n",
       "      dtype='object')"
      ]
     },
     "execution_count": 95,
     "metadata": {},
     "output_type": "execute_result"
    }
   ],
   "source": [
    "X_new_test.columns"
   ]
  }
 ],
 "metadata": {
  "kernelspec": {
   "display_name": "Python 3 (ipykernel)",
   "language": "python",
   "name": "python3"
  },
  "language_info": {
   "codemirror_mode": {
    "name": "ipython",
    "version": 3
   },
   "file_extension": ".py",
   "mimetype": "text/x-python",
   "name": "python",
   "nbconvert_exporter": "python",
   "pygments_lexer": "ipython3",
   "version": "3.10.11"
  }
 },
 "nbformat": 4,
 "nbformat_minor": 5
}
